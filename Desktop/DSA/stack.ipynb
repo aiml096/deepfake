{
 "cells": [
  {
   "cell_type": "code",
   "execution_count": 1,
   "metadata": {},
   "outputs": [
    {
     "name": "stdout",
     "output_type": "stream",
     "text": [
      "valid one\n",
      "\n",
      "valid one\n",
      "5\n",
      "6\n"
     ]
    }
   ],
   "source": [
    "stack=[]\n",
    "def push():\n",
    "    i=input(\"enter the input\")\n",
    "    stack.append(i)\n",
    "def pop():\n",
    "    stack.pop()\n",
    "    print(\"\")\n",
    "def display():\n",
    "    for i in stack:\n",
    "        print(i)\n",
    "while True:\n",
    "    z=input(\"1)push 2)pop 3)display 4)quit\")\n",
    "    if z==\"1\":\n",
    "        push()\n",
    "    elif z==\"2\":\n",
    "        pop()\n",
    "    elif z==\"3\":\n",
    "        display()\n",
    "    elif z==\"4\":\n",
    "        break\n",
    "    else:\n",
    "        print(\"valid one\")"
   ]
  },
  {
   "cell_type": "code",
   "execution_count": 2,
   "metadata": {},
   "outputs": [],
   "source": [
    "import collections\n",
    "stack1=collections.deque()\n",
    "stack1.append(1)\n",
    "stack1.append(2)\n",
    "stack1.append(3)\n"
   ]
  },
  {
   "cell_type": "code",
   "execution_count": 3,
   "metadata": {},
   "outputs": [
    {
     "data": {
      "text/plain": [
       "3"
      ]
     },
     "execution_count": 3,
     "metadata": {},
     "output_type": "execute_result"
    }
   ],
   "source": [
    "stack1.pop()"
   ]
  },
  {
   "cell_type": "code",
   "execution_count": 4,
   "metadata": {},
   "outputs": [
    {
     "data": {
      "text/plain": [
       "2"
      ]
     },
     "execution_count": 4,
     "metadata": {},
     "output_type": "execute_result"
    }
   ],
   "source": [
    "stack1.pop()"
   ]
  },
  {
   "cell_type": "code",
   "execution_count": 5,
   "metadata": {},
   "outputs": [
    {
     "data": {
      "text/plain": [
       "False"
      ]
     },
     "execution_count": 5,
     "metadata": {},
     "output_type": "execute_result"
    }
   ],
   "source": [
    "not stack"
   ]
  },
  {
   "cell_type": "code",
   "execution_count": null,
   "metadata": {},
   "outputs": [],
   "source": []
  }
 ],
 "metadata": {
  "kernelspec": {
   "display_name": "base",
   "language": "python",
   "name": "python3"
  },
  "language_info": {
   "codemirror_mode": {
    "name": "ipython",
    "version": 3
   },
   "file_extension": ".py",
   "mimetype": "text/x-python",
   "name": "python",
   "nbconvert_exporter": "python",
   "pygments_lexer": "ipython3",
   "version": "3.11.7"
  }
 },
 "nbformat": 4,
 "nbformat_minor": 2
}
